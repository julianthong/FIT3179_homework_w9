import pandas as pd

# Read your CSV data
data = pd.read_csv("energy-intensity.csv")

# Calculate the mean value for each entity
entity_means = data.groupby('Entity')['Primary energy consumption per GDP (kWh/$)'].mean().reset_index()

# Merge the means back into the original data
normalized_data = data.merge(entity_means, on='Entity', suffixes=('', '_mean'))

# Calculate the normalized value
normalized_data['Normalized'] = normalized_data['Primary energy consumption per GDP (kWh/$)'] / normalized_data['Primary energy consumption per GDP (kWh/$)_mean']

# Save the normalized data to a new CSV file
normalized_data.to_csv("normalized_energy-intensity.csv", index=False)

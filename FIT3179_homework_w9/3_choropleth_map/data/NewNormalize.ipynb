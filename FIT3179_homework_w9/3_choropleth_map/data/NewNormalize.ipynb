{
 "cells": [
  {
   "cell_type": "code",
   "execution_count": 1,
   "id": "886a6705",
   "metadata": {},
   "outputs": [],
   "source": [
    "import pandas as pd\n",
    "\n",
    "# Read your CSV data\n",
    "data = pd.read_csv(\"energy-intensity.csv\")\n",
    "\n",
    "# Calculate the mean value for each entity\n",
    "entity_means = data.groupby('Entity')['Primary energy consumption per GDP (kWh/$)'].mean().reset_index()\n",
    "\n",
    "# Merge the means back into the original data\n",
    "normalized_data = data.merge(entity_means, on='Entity', suffixes=('', '_mean'))\n",
    "\n",
    "# Calculate the normalized value\n",
    "normalized_data['Normalized'] = normalized_data['Primary energy consumption per GDP (kWh/$)'] / normalized_data['Primary energy consumption per GDP (kWh/$)_mean']\n",
    "\n",
    "# Save the normalized data to a new CSV file\n",
    "normalized_data.to_csv(\"normalized_energy-intensity.csv\", index=False)\n"
   ]
  }
 ],
 "metadata": {
  "kernelspec": {
   "display_name": "Python 3 (ipykernel)",
   "language": "python",
   "name": "python3"
  },
  "language_info": {
   "codemirror_mode": {
    "name": "ipython",
    "version": 3
   },
   "file_extension": ".py",
   "mimetype": "text/x-python",
   "name": "python",
   "nbconvert_exporter": "python",
   "pygments_lexer": "ipython3",
   "version": "3.9.17"
  }
 },
 "nbformat": 4,
 "nbformat_minor": 5
}
